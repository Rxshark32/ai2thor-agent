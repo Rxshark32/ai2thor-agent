{
 "cells": [
  {
   "cell_type": "code",
   "execution_count": 1,
   "id": "f8435bfb-f776-4d70-85fa-bd1daadef1cf",
   "metadata": {},
   "outputs": [],
   "source": [
    "import gymnasium as gym\n",
    "from stable_baselines3 import PPO\n",
    "import envs.stove_env"
   ]
  },
  {
   "cell_type": "code",
   "execution_count": 2,
   "id": "8710cd4a-8dd9-4461-adb5-cc2e67128d49",
   "metadata": {},
   "outputs": [],
   "source": [
    "# Make env\n",
    "def prepare_floorplan6(env):\n",
    "    env.agent.controller.reset(\"FloorPlan6\")\n",
    "    env.agent.man_teleport()\n",
    "    env.agent.turn_on_stove()\n",
    "    return env\n"
   ]
  },
  {
   "cell_type": "code",
   "execution_count": 3,
   "id": "fd0dc330-b19a-4327-950f-d136efbaddd8",
   "metadata": {},
   "outputs": [],
   "source": [
    "# Make environment\n",
    "env = gym.make(\"stove-turnoff-v0\", render_mode=\"human\")\n",
    "model = PPO.load(\"models/ppo_stove_turnoff\")"
   ]
  },
  {
   "cell_type": "code",
   "execution_count": 4,
   "id": "914ba2e6-7865-46f1-a68b-d7a65e1a6785",
   "metadata": {
    "scrolled": true
   },
   "outputs": [
    {
     "name": "stdout",
     "output_type": "stream",
     "text": [
      "FloorPlan1\n",
      "Teleported successfully to FloorPlan1_physics\n",
      "Rotating to face stove knob approx. 180°\n",
      "observation:  [-0.5790001   0.8559992  -2.0700002   0.5570001   0.02540082  0.11759973\n",
      "  0.09550011  0.02540082  0.11759973  0.25000012  0.02540082  0.11759973\n",
      "  0.39590013  0.02540082  0.11759973  0.          0.          0.\n",
      "  0.          0.          0.          0.15360719  0.          0.6       ]\n"
     ]
    }
   ],
   "source": [
    "obs, _ = env.reset()\n",
    "print(\"observation: \", obs)\n",
    "done = False"
   ]
  },
  {
   "cell_type": "code",
   "execution_count": 5,
   "id": "db98d41a-fdb7-4f1d-98cb-6e3706d7a1b9",
   "metadata": {},
   "outputs": [],
   "source": [
    "MAXSTEPS = 100\n",
    "total_reward = 0"
   ]
  },
  {
   "cell_type": "code",
   "execution_count": 6,
   "id": "a94bdf52-f2f2-41e6-81a0-43fe77a7721e",
   "metadata": {},
   "outputs": [
    {
     "name": "stdout",
     "output_type": "stream",
     "text": [
      "Agent action: 1 -> Move arm -x\n",
      "Reward obtained: 0.013130175613043816\n",
      "Agent action: 1 -> Move arm -x\n",
      "Reward obtained: -0.05302930469394357\n",
      "Agent action: 8 -> Toggle stove knob\n",
      "Reward obtained: 0.1467820823681292\n",
      "Agent action: 1 -> Move arm -x\n",
      "Reward obtained: 0.1466779227300119\n",
      "Agent action: 8 -> Toggle stove knob\n",
      "Reward obtained: 0.14657711172537322\n",
      "Agent action: 8 -> Toggle stove knob\n",
      "Reward obtained: 0.14647488069967743\n",
      "Agent action: 8 -> Toggle stove knob\n",
      "Reward obtained: 0.14637410068945403\n",
      "Agent action: 8 -> Toggle stove knob\n",
      "Reward obtained: 0.14627195072607513\n",
      "Agent action: 8 -> Toggle stove knob\n",
      "Reward obtained: 0.14617288279966828\n",
      "Agent action: 8 -> Toggle stove knob\n",
      "Reward obtained: 0.14607149076895232\n",
      "Agent action: 8 -> Toggle stove knob\n",
      "Reward obtained: 0.14597088885740753\n",
      "Agent action: 8 -> Toggle stove knob\n",
      "Reward obtained: 0.14586949372725005\n",
      "Agent action: 8 -> Toggle stove knob\n",
      "Reward obtained: 0.14576807189421173\n",
      "Agent action: 8 -> Toggle stove knob\n",
      "Reward obtained: 0.14566701364950652\n",
      "Agent action: 8 -> Toggle stove knob\n",
      "Reward obtained: 0.1455657048268747\n",
      "Agent action: 8 -> Toggle stove knob\n",
      "Reward obtained: 0.145463894609971\n",
      "Agent action: 8 -> Toggle stove knob\n",
      "Reward obtained: 0.14536374259428497\n",
      "Agent action: 8 -> Toggle stove knob\n",
      "Reward obtained: 0.14526180363134855\n",
      "Agent action: 8 -> Toggle stove knob\n",
      "Reward obtained: 0.14516184878782745\n",
      "Agent action: 8 -> Toggle stove knob\n",
      "Reward obtained: 0.14505964279608244\n",
      "Agent action: 8 -> Toggle stove knob\n",
      "Reward obtained: 0.14495825052694794\n",
      "Agent action: 8 -> Toggle stove knob\n",
      "Reward obtained: 0.14485699558691498\n",
      "Agent action: 8 -> Toggle stove knob\n",
      "Reward obtained: 0.1447556507630777\n",
      "Agent action: 8 -> Toggle stove knob\n",
      "Agent stuck for 20 steps. Terminating episode with penalty reward.\n"
     ]
    }
   ],
   "source": [
    " for step in range(0, MAXSTEPS):\n",
    "    action, _ = model.predict(obs, deterministic=True)\n",
    "    action = int(action)\n",
    "    obs, reward, terminated, truncated, info = env.step([action])\n",
    "    total_reward += reward\n",
    "    if terminated or truncated:\n",
    "        break"
   ]
  },
  {
   "cell_type": "code",
   "execution_count": 7,
   "id": "cee06bf0-9c50-456b-8555-9aa51d7bf686",
   "metadata": {},
   "outputs": [
    {
     "name": "stdout",
     "output_type": "stream",
     "text": [
      "Agent action: 3 -> Move arm -y\n",
      "Reward obtained: 0.09119281255388965\n"
     ]
    }
   ],
   "source": [
    "obs, reward, terminated, truncated, info = env.step(env.action_space.sample())\n",
    "# input(\"Press any key to close\")\n",
    "# env.close()"
   ]
  },
  {
   "cell_type": "code",
   "execution_count": null,
   "id": "5d468f2c-c7b2-448c-ac5f-3702ff2ff58b",
   "metadata": {},
   "outputs": [],
   "source": []
  },
  {
   "cell_type": "code",
   "execution_count": null,
   "id": "1f5a8d97-c836-4969-a438-79316be3c6b9",
   "metadata": {},
   "outputs": [],
   "source": []
  },
  {
   "cell_type": "code",
   "execution_count": null,
   "id": "e5844c49-1d17-42be-9b87-3df4b0d1ebb2",
   "metadata": {},
   "outputs": [],
   "source": []
  }
 ],
 "metadata": {
  "kernelspec": {
   "display_name": "Python 3 (ipykernel)",
   "language": "python",
   "name": "python3"
  },
  "language_info": {
   "codemirror_mode": {
    "name": "ipython",
    "version": 3
   },
   "file_extension": ".py",
   "mimetype": "text/x-python",
   "name": "python",
   "nbconvert_exporter": "python",
   "pygments_lexer": "ipython3",
   "version": "3.9.21"
  }
 },
 "nbformat": 4,
 "nbformat_minor": 5
}
